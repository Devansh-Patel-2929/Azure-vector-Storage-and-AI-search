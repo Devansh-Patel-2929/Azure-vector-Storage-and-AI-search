{
 "cells": [
  {
   "cell_type": "code",
   "execution_count": 14,
   "id": "b13e1d87",
   "metadata": {},
   "outputs": [],
   "source": [
    "from azure.identity import AzureCliCredential\n",
    "from azure.ai.projects import AIProjectClient\n",
    "\n",
    "import os\n",
    "from dotenv import load_dotenv\n",
    "load_dotenv()\n",
    "\n",
    "ENDPOINT = os.getenv(\"ENDPOINT\")\n",
    "subscription_key = os.getenv(\"SUBSCRIPTION_KEY\")\n"
   ]
  },
  {
   "cell_type": "code",
   "execution_count": 15,
   "id": "7cd11651",
   "metadata": {},
   "outputs": [],
   "source": [
    "import os\n",
    "from openai import AzureOpenAI\n",
    "\n",
    "client = AzureOpenAI(\n",
    "    api_version=\"2024-12-01-preview\",\n",
    "    azure_endpoint= ENDPOINT,\n",
    "    api_key=subscription_key,\n",
    ")\n"
   ]
  },
  {
   "cell_type": "code",
   "execution_count": 19,
   "id": "668993bb",
   "metadata": {},
   "outputs": [
    {
     "name": "stdout",
     "output_type": "stream",
     "text": [
      "Sure! \n",
      "\n",
      "Why did the AI go broke?  \n",
      "Because it kept investing in binary options!\n"
     ]
    }
   ],
   "source": [
    "model_name = \"gpt-4o\"\n",
    "deployment = \"gpt-4o\"\n",
    "api_version = \"2024-12-01-preview\"\n",
    "\n",
    "client = AzureOpenAI(\n",
    "    api_version=api_version,\n",
    "    azure_endpoint=ENDPOINT,\n",
    "    api_key=subscription_key,\n",
    ")\n",
    "\n",
    "response = client.chat.completions.create(\n",
    "    messages=[\n",
    "        {\"role\": \"system\", \"content\": \"You are a comedian.\"},\n",
    "        {\"role\": \"user\", \"content\": \"Tell me a joke about AI.\"}\n",
    "    ],\n",
    "    max_tokens=100,\n",
    "    temperature=0.7,\n",
    "    top_p=0.95,\n",
    "    model=deployment\n",
    ")\n",
    "\n",
    "print(response.choices[0].message.content)"
   ]
  }
 ],
 "metadata": {
  "kernelspec": {
   "display_name": ".venv",
   "language": "python",
   "name": "python3"
  },
  "language_info": {
   "codemirror_mode": {
    "name": "ipython",
    "version": 3
   },
   "file_extension": ".py",
   "mimetype": "text/x-python",
   "name": "python",
   "nbconvert_exporter": "python",
   "pygments_lexer": "ipython3",
   "version": "3.13.5"
  }
 },
 "nbformat": 4,
 "nbformat_minor": 5
}
