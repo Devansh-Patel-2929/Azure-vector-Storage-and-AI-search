{
 "cells": [
  {
   "cell_type": "code",
   "execution_count": null,
   "id": "b13e1d87",
   "metadata": {},
   "outputs": [],
   "source": [
    "from langchain_core.prompts import ChatPromptTemplate\n",
    "from langchain_openai import AzureChatOpenAI, AzureOpenAIEmbeddings\n",
    "from azure.cosmos import CosmosClient\n",
    "from typing import Dict, Any\n",
    "import json\n",
    "\n",
    "import os\n",
    "from dotenv import load_dotenv\n",
    "load_dotenv()\n",
    "\n",
    "OPEN_AI_ENDPOINT = os.getenv(\"OPEN_AI_ENDPOINT\")\n",
    "subscription_key = os.getenv(\"SUBSCRIPTION_KEY\")\n"
   ]
  },
  {
   "cell_type": "code",
   "execution_count": 18,
   "id": "7cd11651",
   "metadata": {},
   "outputs": [],
   "source": [
    "llm = AzureChatOpenAI(\n",
    "    api_version=\"2025-01-01-preview\",\n",
    "    azure_endpoint=OPEN_AI_ENDPOINT,\n",
    "    api_key=subscription_key,\n",
    "    temperature=0.1,     \n",
    ")"
   ]
  },
  {
   "cell_type": "code",
   "execution_count": 19,
   "id": "668993bb",
   "metadata": {},
   "outputs": [
    {
     "name": "stdout",
     "output_type": "stream",
     "text": [
      "Vector databases store and manage high-dimensional vector embeddings, enabling efficient similarity search and retrieval for applications like recommendation systems, natural language processing, and computer vision tasks.\n"
     ]
    }
   ],
   "source": [
    "prompt = ChatPromptTemplate.from_messages([\n",
    "    (\"system\", \"You are a Professor. You are to answer the question in 20-30 words \"),\n",
    "    (\"user\", \"tell me a about {topic}\"),\n",
    "])\n",
    "\n",
    "chain = prompt | llm\n",
    "\n",
    "response = chain.invoke({\"topic\": \"Vector Databases\"})\n",
    "print(response.content)"
   ]
  },
  {
   "cell_type": "code",
   "execution_count": 20,
   "id": "a9c855c5",
   "metadata": {},
   "outputs": [],
   "source": [
    "#embedding model text-embeddding-ada-002\n",
    "EMBEDDING_MODEL_ENDPOINT = os.getenv(\"EMBEDDING_MODEL_ENDPOINT\")\n",
    "\n",
    "embedding_model = AzureOpenAIEmbeddings(\n",
    "    azure_endpoint=EMBEDDING_MODEL_ENDPOINT,\n",
    "    api_key=subscription_key,\n",
    ")"
   ]
  },
  {
   "cell_type": "code",
   "execution_count": 21,
   "id": "8eca793b",
   "metadata": {},
   "outputs": [
    {
     "name": "stdout",
     "output_type": "stream",
     "text": [
      "1536\n"
     ]
    }
   ],
   "source": [
    "query = \"What is Azure OpenAI?\"\n",
    "query_embedding = embedding_model.embed_query(query)\n",
    "\n",
    "#print the dimension of the embedding\n",
    "print(len(query_embedding))"
   ]
  },
  {
   "cell_type": "code",
   "execution_count": 22,
   "id": "179988df",
   "metadata": {},
   "outputs": [],
   "source": [
    "DATABASE_NAME = os.getenv(\"DATABASE_NAME\")\n",
    "CONTAINER_NAME = os.getenv(\"CONTAINER_NAME\")"
   ]
  },
  {
   "cell_type": "code",
   "execution_count": 23,
   "id": "d3020bbe",
   "metadata": {},
   "outputs": [],
   "source": [
    "COSMOS_CONNECTION_STRING = os.getenv(\"COSMOS_CONNECTION_STRING\")\n",
    "\n",
    "# Cosmos_client connnection using Connection string \n",
    "client = CosmosClient.from_connection_string(COSMOS_CONNECTION_STRING)\n",
    "database = client.get_database_client(DATABASE_NAME)\n",
    "container = database.get_container_client(CONTAINER_NAME)"
   ]
  },
  {
   "cell_type": "code",
   "execution_count": 24,
   "id": "721c0065",
   "metadata": {},
   "outputs": [],
   "source": [
    "def insert_document(test_id, content):\n",
    "    content_vector = embedding_model.embed_query(content)\n",
    "    document = {\n",
    "        \"id\": str(test_id),\n",
    "        \"content\": content,\n",
    "        \"content_vector\": content_vector\n",
    "    }\n",
    "    container.create_item(body=document)\n",
    "    print(f\"Inserted document with test_id: {test_id}\")\n"
   ]
  },
  {
   "cell_type": "code",
   "execution_count": 25,
   "id": "666e284e",
   "metadata": {},
   "outputs": [],
   "source": [
    "#check if test_id already exits \n",
    "def check_document_exists(test_id):\n",
    "    query = f\"SELECT * FROM c WHERE c.id = '{test_id}'\"\n",
    "    items = list(container.query_items(query=query, enable_cross_partition_query=True))\n",
    "    return len(items) > 0\n"
   ]
  },
  {
   "cell_type": "code",
   "execution_count": 26,
   "id": "09abf3eb",
   "metadata": {},
   "outputs": [],
   "source": [
    "def vector_search(query_text, top_k=5):\n",
    "    # Generate user query embedding \n",
    "    query_embedding = embedding_model.embed_query(query_text)\n",
    "    \n",
    "    # SQL query with vector distance calculation\n",
    "    query = \"\"\"\n",
    "    SELECT TOP @top_k \n",
    "        c.id,\n",
    "        c.content,\n",
    "        VectorDistance(c.content_vector, @embedding) AS similarity_score\n",
    "    FROM c\n",
    "    ORDER BY VectorDistance(c.content_vector, @embedding)\n",
    "    \"\"\"\n",
    "    \n",
    "    parameters = [\n",
    "        {\"name\": \"@embedding\", \"value\": query_embedding},\n",
    "        {\"name\": \"@top_k\", \"value\": top_k}\n",
    "    ]\n",
    "    \n",
    "    try:\n",
    "        # vector search query\n",
    "        results = list(container.query_items(\n",
    "            query=query,\n",
    "            parameters=parameters,\n",
    "            enable_cross_partition_query=True\n",
    "        ))\n",
    "        \n",
    "        print(f\"Vector search completed - Found {len(results)} results\")\n",
    "        return results\n",
    "        \n",
    "    except Exception as e:\n",
    "        print(f\"Error during vector search: {e}\")\n",
    "        return []\n"
   ]
  },
  {
   "cell_type": "code",
   "execution_count": null,
   "id": "0e5c6e62",
   "metadata": {},
   "outputs": [],
   "source": [
    "import requests\n",
    "\n",
    "# DATA in josn file does not have title, fetching title using OMDB API\n",
    "\n",
    "OMDB_API_KEY = os.getenv(\"OMDB_API_KEY\")\n",
    "\n",
    "def fetch_movie_title(imdb_id: str) -> str:\n",
    "    url = f\"http://www.omdbapi.com/?i={imdb_id}&apikey={OMDB_API_KEY}\"\n",
    "    response = requests.get(url)\n",
    "    data = response.json()\n",
    "    if data.get('Response') == 'True':\n",
    "        return data.get('Title', 'Unknown Title')\n"
   ]
  },
  {
   "cell_type": "code",
   "execution_count": null,
   "id": "d4d261ba",
   "metadata": {},
   "outputs": [],
   "source": [
    "def insert_movie_into_db(movie_data: Dict[str, Any]) -> None:\n",
    "    if(check_document_exists(movie_data[\"movie_id\"])):\n",
    "        print(f\"Document with ID {movie_data['movie_id']} already exists. Skipping insertion.\")\n",
    "        return\n",
    "    movie_id = movie_data[\"movie_id\"]\n",
    "    movie_title = fetch_movie_title(movie_id)\n",
    "    print(movie_title)\n",
    "    content = \"plot_summary: \" + movie_data[\"plot_summary\"] + \"  \" + \"plot_synopsis:\" + movie_data[\"plot_synopsis\"]\n",
    "    vector_embedding = embedding_model.embed_query(content)\n",
    "    document = {\n",
    "        \"id\" : movie_id,\n",
    "        \"title\" : movie_title,\n",
    "        \"genres\": movie_data[\"genre\"],\n",
    "        \"year\": movie_data[\"release_date\"],\n",
    "        \"rating\": movie_data[\"rating\"],\n",
    "        \"plot_summary\": movie_data[\"plot_summary\"],\n",
    "        \"plot_synopsis\": movie_data[\"plot_synopsis\"],\n",
    "        \"embedding\": vector_embedding,\n",
    "    }\n",
    "    container.create_item(body=document)\n",
    "    print(f\"Inserted movie with ID: {movie_id}, Title: {movie_title}\")\n",
    "\n",
    "    "
   ]
  },
  {
   "cell_type": "code",
   "execution_count": null,
   "id": "62692efa",
   "metadata": {},
   "outputs": [],
   "source": [
    "def process_movie_data(file_path: str) -> None:\n",
    "\n",
    "    print(f\"Start processing data\")\n",
    "\n",
    "    try:\n",
    "        with open(file_path, 'r', encoding='utf-8') as f:\n",
    "            movie_list = json.load(f)\n",
    "        \n",
    "        print(f\"Successfully loaded {len(movie_list)} movies.\")\n",
    "        \n",
    "        # Iterate over the list, calling the insertion function for each movie\n",
    "        for index, movie in enumerate(movie_list):\n",
    "            print(f\"\\nProcessing movie {index + 1}/{len(movie_list)}...\")\n",
    "            insert_movie_into_db(movie)\n",
    "\n",
    "    except json.JSONDecodeError as e:\n",
    "        print(f\"ERROR: Failed to decode JSON from file.\")\n",
    "        print(f\"Details: {e}\")\n",
    "    except Exception as e:\n",
    "        print(f\"An unexpected error occurred during file processing: {e}\")\n"
   ]
  },
  {
   "cell_type": "code",
   "execution_count": null,
   "id": "a313eed1",
   "metadata": {},
   "outputs": [],
   "source": [
    "#  FILE_PATH = \"./dataset/movies.json\"\n",
    "#  process_movie_data(FILE_PATH)"
   ]
  },
  {
   "cell_type": "code",
   "execution_count": 31,
   "id": "3c3881d5",
   "metadata": {},
   "outputs": [],
   "source": [
    "def vector_search(query_text, top_k=5):\n",
    "    # Generate user query embedding \n",
    "    query_embedding = embedding_model.embed_query(query_text)\n",
    "    \n",
    "    # SQL query with vector distance calculation\n",
    "    query = \"\"\"\n",
    "    SELECT TOP @top_k \n",
    "        c.id,\n",
    "        c.title,\n",
    "        c.genres,\n",
    "        c.rating,\n",
    "        c.plot_summary,\n",
    "        c.plot_synopsis,\n",
    "        VectorDistance(c.embedding, @embedding) AS similarity_score\n",
    "    FROM c\n",
    "    ORDER BY VectorDistance(c.embedding, @embedding)\n",
    "    \"\"\"\n",
    "    \n",
    "    parameters = [\n",
    "        {\"name\": \"@embedding\", \"value\": query_embedding},\n",
    "        {\"name\": \"@top_k\", \"value\": top_k}\n",
    "    ]\n",
    "    \n",
    "    try:\n",
    "        # vector search query\n",
    "        results = list(container.query_items(\n",
    "            query=query,\n",
    "            parameters=parameters,\n",
    "            enable_cross_partition_query=True\n",
    "        ))\n",
    "        \n",
    "        print(f\"Vector search completed - Found {len(results)} results\")\n",
    "        return results\n",
    "        \n",
    "    except Exception as e:\n",
    "        print(f\"Error during vector search: {e}\")\n",
    "        return []"
   ]
  },
  {
   "cell_type": "code",
   "execution_count": 32,
   "id": "7e7c6d4d",
   "metadata": {},
   "outputs": [
    {
     "name": "stdout",
     "output_type": "stream",
     "text": [
      "Vector search completed - Found 5 results\n",
      "{'id': 'tt0107211', 'title': 'Indecent Proposal', 'genres': ['Drama', 'Romance'], 'rating': '5.8', 'plot_summary': 'A young couple very much in love are married and have started their respective careers, she as a real estate broker, he as an architect. She finds the perfect spot to build his dream house, and they get loans to finance it. When the recession hits, they stand to lose everything they own, so they go to Vegas to have one shot at winning the money they need. After losing at the tables, they are approached by a millionaire who offers them a million dollars for a night with the wife. Though the couple agrees that this is a way out of their financial dilemma, it threatens to destroy their relationship.                Written by\\nEd Sutton <esutton@mindspring.com>', 'plot_synopsis': '', 'similarity_score': 0.8036993851661897}\n",
      "{'id': 'tt0832266', 'title': 'Definitely, Maybe', 'genres': ['Comedy', 'Drama', 'Romance'], 'rating': '7.2', 'plot_summary': 'Romantic comedy: Will Hayes, a 30-something Manhattan dad is in the midst of a divorce when his 10 year old daughter, Maya, starts to question him about his life before marriage. Maya wants to know absolutely everything about how her parents met and fell in love. Will\\'s story begins in 1992, as a young, starry-eyed aspiring politician who moves to New York from Wisconsin in order to work on the Clinton campaign. For Maya, Will relives his past as a idealistic young man learning the ins and outs of big city politics, and recounts the history of his romantic relationships with three very different women. On the campaign, Will\\'s best buddy is Russell McCormack. They not only have similar political aspirations, they share the same type of girl problems, too. Will hopelessly attempts a \"PG\" version of his story for his daughter ad changes the names so Maya has to guess who he finally married. Is her mother Will\\'s college sweetheart, the dependable girl next-door Emily? Is she his longtime ...                Written by\\nOrange', 'plot_synopsis': 'Will Hayes (Ryan Reynolds) is a 38-year-old father who is in the midst of a divorce. His 10-year-old daughter Maya (Abigail Breslin) lives with her mother but is with him twice a week. On one of these occasions she questions him about his life before marriage. After her first sex-ed class, Maya first asks and then insists on hearing the story of how her parents met and decided to get married. Will gives in, but decides to change the names and some facts, thereby creating a love mystery, with Maya guessing which of the women will be her mom. The story he tells Maya is depicted in long flashbacks. From time to time the film switches back to the present, where Maya comments and asks questions.The story begins in 1992, where Will, a starry-eyed aspiring politician, moves away from Wisconsin and his college sweetheart, Emily (Elizabeth Banks) to New York to work on the Clinton campaign. She gives him a closed packet and asks him to give it to her friend Summer Hartley (Rachel Weisz), an aspiring journalist. In New York, he meets April (Isla Fisher), the copy girl for the campaign. Before bringing the packet to Summer, Will opens it- it is Summer\\'s diary. Encouraged by his roommate Russell (Derek Luke), he reads it, and comes across pages describing a love affair between Emily and Summer. He visits Summer to bring the diary, and meets her roommate and sometimes-lover, her college professor, a famous writer named Hampton Roth (Kevin Kline). When Will leaves Summer kisses him, leaving Will shocked and confused.Will and April have a chance meeting outside work, where Will reveals he is going to propose to Emily. When Will practices a proposal to Emily on April, she is taken aback by Will\\'s words, and replies, \"Definitely, maybe.\" They go back to her apartment, where April has multiple copies of Jane Eyre in her collection, explaining that her father gave her a copy with an inscription in the front shortly before he died, and the book was later lost. She has spent years buying copies of Jane Eyre from secondhand stores, hoping to find the copy her father gave her. April talks about her dreams to travel around the world, which she finds herself unable to do because of her current relationship with someone she rarely sees. When Will suggests she break up with her boyfriend to fulfill her desires, the two eventually share a kiss, with Will leaving quickly and berating himself.Emily visits New York, and Will proposes in Central Park (first by recounting the story of his parents\\' engagement, and then by going through the words he said to April), but Emily turns him down and confesses she slept with Will\\'s former roommate in Wisconsin, Charlie. Will is heartbroken. Time goes by, Bill Clinton becomes president of the United States, and Will and Russell start their own consulting firm. Their biggest client is Arthur Robredo (Nestor Serrano), their former employer on the Clinton campaign who is running to be Governor of New York. April travels the world like she wanted, and she and Will become pen-pals. Eventually, with the encouragement of Roth, Will and Summer become romantically involved. In the meantime April returns from her travels as she realized that the man she truly loves is Will. However she meets him as he\\'s buying the engagement ring for Summer. April is heartbroken, but at the time Will doesn\\'t notice it. Will and Summer\\'s relationship ends when Summer writes an unfavorable story about Robredo, leading to Robredo\\'s defeat and damaging Will\\'s career and friendship with Russell.Will becomes disillusioned about his choice of profession when Bill Clinton is implicated in the Monica Lewinsky scandal. He hates his job, and starts to drink heavily after finding out that April is dating a new guy. In a drunken rant, he confesses romantic feelings to her, but in the process, ends up having a fight with her, telling her to \"go to life-rehab\". However, it may be because of these words that April returns to school.Some time after the fight, while walking the streets of New York, Will finds the copy of Jane Eyre that April\\'s father gave her. He goes to give it to her, but decides against it when he meets her boyfriend Kevin, with whom she is living.Summer and Will bump into each other while he is at a cafe, and Summer, who is now pregnant, invites him to a party. Maya gets upset about the possibility of Summer being her mother and Will not being her natural father. However, it is revealed that Emily also attends the party, as she now lives in New York. Eventually, she and Will start up another relationship, and Emily turns out to be Maya\\'s mother and Will\\'s ex-wife, as Maya correctly guesses. Will explains to Maya that the happy ending all along was Maya and they share a hug and part separate ways.At home Will signs the divorce papers served to him and unpacks his things moved from the previous house. By accident he sees the book he wanted to give April years ago and decides to visit her at her workplace, Amnesty International. After learning that she is now single again, he gives her the book, but when she finds out that he was holding on to it rather than giving it to her immediately, she becomes angry and asks him to leave her office.Maya is happy that she figured out the story, but also realizes that her father still loves April, as even though Will changed the names of Emily (Sarah in real life), and Summer (Natasha in real life), he did not change April\\'s name. Encouraged by Maya, who wants her father to be happy, Maya and Will go to April\\'s apartment. Though April refuses to open the door at first, she hears Maya demand that Will tell April the story exactly as he told it to her. April still doesn\\'t emerge, but as they turn to go back home, she comes outside. Will confesses to April that he held on to the copy of Jane Eyre because it was the only thing he had left of her. As the three enter into April\\'s building, April jumps into Will\\'s arms and kisses him.', 'similarity_score': 0.7939133307740468}\n",
      "{'id': 'tt0332280', 'title': 'The Notebook', 'genres': ['Drama', 'Romance'], 'rating': '7.9', 'plot_summary': \"In a nursing home, resident Duke reads a romance story for an old woman who has senile dementia with memory loss. In the late 1930s, wealthy seventeen year-old Allie Hamilton is spending summer vacation in Seabrook. Local worker Noah Calhoun meets Allie at a carnival and they soon fall in love with each other. One day, Noah brings Allie to an ancient house that he dreams of buying and restoring and they attempt to make love but get interrupted by their friend. Allie's parents do not approve of their romance since Noah belongs to another social class, and they move to New York with her. Noah writes 365 letters (A Year) to Allie, but her mother Anne Hamilton does not deliver them to her daughter. Three years later, the United States joins the World War II and Noah and his best friend Fin enlist in the army, and Allie works as an army nurse. She meets injured soldier Lon Hammond in the hospital. After the war, they meet each other again going on dates and then, Lon, who is wealthy and ...                Written by\\nClaudio Carvalho, Rio de Janeiro, Brazil\", 'plot_synopsis': 'In a modern-day nursing home, an elderly man named Duke (James Garner) begins to read a love story from his notebook to a female fellow patient (Gena Rowlands).The story begins in 1940. At a carnival in Seabrook Island, South Carolina, local country boy Noah Calhoun (Ryan Gosling) sees seventeen-year-old heiress Allie Hamilton (Rachel McAdams) for the first time and is immediately smitten. She continuously refuses his persistent advances until their well-meaning friends lure them together; they then get to know each other on a midnight walk through empty Seabrook.Noah and Allie spend an idyllic summer together. One night, a week before Allie is to leave town, she and Noah go up to an abandoned house called The Windsor Plantation. Noah tells her that he hopes to buy the house, and Allie makes him promise that the house will be white, with blue shutters, a walk-around porch, and a room that overlooks the creek so she can paint. They intend to make love for the first time, but are interrupted by Noah\\'s friend Fin (Kevin Connolly) with the news that Allie\\'s parents have the police out looking for her. When Allie returns home, her disapproving parents ban her from seeing Noah again. Allie fights with Noah outside and the two decide to break up. Allie immediately regrets the decision but Noah drives away. The next morning, Allie\\'s mother reveals that they are going home that morning. Allie frantically tries to find Noah, but is forced to leave without saying good-bye. The Hamiltons then send Allie to New York, where she begins attending Sarah Lawrence College. Noah, devastated by his separation from Allie, writes her one letter a day for a year, only to get no reply as Allie\\'s mother keeps the letters from her. Noah and Allie have no choice but to move on with their lives. Allie continues to attend school, while Noah and Fin enlist to fight in World War II. Fin is killed in battle.Allie becomes a nurse for wounded soldiers. There, she meets the wealthy Lon Hammond, Jr. (James Marsden), a well-connected young lawyer who is handsome, sophisticated, charming and comes from old Southern money. The two eventually become engaged, to the joy of Allie\\'s parents, although Allie sees Noah\\'s face when Lon asks her to marry him.When Noah returns home, he discovers his father has sold their home so that Noah can go ahead and buy The Windsor Plantation. While visiting Charleston to file some paper work, Noah witnesses Allie and Lon kissing at a restaurant, causing Noah to go a little crazy, convincing himself that if he fixes up the house, Allie will come back to him.While trying on her wedding dress in the 1940s, Allie is startled to read about Noah completing the house in the style section of a Raleigh newspaper and faints. She visits Noah in Seabrook and he invites her to dinner, during which Allie tells Noah about her engagement. Noah questions whether Allie\\'s future husband is a good man and she reassures Noah that he is. Later in the evening, Noah invites Allie to come back tomorrow.In the present, it is made clear that the elderly woman is Allie suffering from dementia, which has stolen her memories and Duke is her husband. Allie does not recognize their grown children and grandchildren, who beg Duke to come home with them. He insists on staying with Allie.The next morning, Allie and Noah go rowing on a nearby lake and begin to reminisce about their summer together. As a rain storm starts Noah rows to shore, where Allie demands to know why Noah never wrote to her. After the revelation that Noah had indeed written to Allie, they share a passionate kiss, before making love into the night.The next day, Allies mother appears on Noahs doorstep, telling Allie that Lon has followed her to Seabrook after Allie\\'s father told him about Noah. Her mother takes Allie out for a drive to show her that there had been a time in her life when she could relate to Allie\\'s present situation. On returning to Noah\\'s, she hands her daughter the bundle of 365 letters that Noah had written to her. When alone, Noah asks Allie what she is going to do; Allie is confused and confesses that she doesnt know. Noah asks her to just stay with him, admitting it is going to be really hard, but he is willing to go through anything because he wants to be with her. Confused as ever, Allie drives off.Allie drives to the hotel and confesses to Lon, who is angry but admits that he still loves her. He tells her that he does not want to convince his fiancée that she should be with him, but Allie tells him he does not have to, because she already knows she should be with him.The film goes back to the elderly couple, and Duke asks Allie who she chose. She soon realizes the answer herself; young Allie appears at Noah\\'s doorstep, having left Lon at the hotel and chosen Noah. They embrace in reunion.Elderly Allie suddenly remembers her past before she and Noah/Duke joyfully spend a brief intimate moment together; after originally finding out about her illness, she had herself written their story in the notebook with the instructions for Noah to \"Read this to me, and I\\'ll come back to you.\" But soon Allie relapses, losing her memories of Noah yet again. She panics, and has to be sedated by the attending physician. This proves to be too difficult for Noah to watch and he breaks down. The next morning, Noah is found unconscious in bed and he is rushed to the hospital; he later returns to the nursing home\\'s intensive care ward. He goes to Allie\\'s room later that night, and Allie remembers again. The next morning, a nurse finds them in bed together, having both died peacefully holding each other\\'s hands. The last scene shows a flock of birds flying away.', 'similarity_score': 0.7931841522089992}\n",
      "{'id': 'tt0050783', 'title': 'Nights of Cabiria', 'genres': ['Drama'], 'rating': '8.2', 'plot_summary': 'Rome, 1957. A woman, Cabiria, is robbed and left to drown by her boyfriend, Giorgio. Rescued, she resumes her life and tries her best to find happiness in a cynical world. Even when she thinks her struggles are over and she has found happiness and contentment, things may not be what they seem.                Written by\\ngrantss', 'plot_synopsis': \"A happy, laughing Cabiria (Giulietta Masina) is standing on a river bank with her current boyfriend and live-in lover, Giorgio (Franco Fabrizi). Suddenly he pushes her into the river and steals her purse which is full of money. She cannot swim and nearly drowns, but is rescued by a group of young boys and revived at the last possible moment by helpful ordinary people who live a little further down the river. In spite of just saving her life, she treats them with disdain and starts looking for Giorgio.Cabiria returns to her small home, but Giorgio has disappeared. She is bitter, and when her best friend and neighbor, Wanda (Franca Marzi) tries to help her get over him, Cabiria shoos her away and remains disgruntled. She continues to ply her trade as a prostitute. One night, she is outside a fancy nightclub and witnesses a fight between famous movie star, Alberto Lazzari (Amedeo Nazzari), as he's dumped by his girlfriend. The differences in appearance between the glamorous girlfriend in a mink coat and the disheveled and short Cabiria are stark. The jilted Lazzari takes the starstruck Cabiria to another club and then to his house, where Cabiria is astounded by the opulence of his house. As the two are finally becoming closer after a rather standoffish few hours, Lazzari's girlfriend returns and Cabiria is shuffled off to the bathroom, unable to consummate with a movie star.Later, a church procession passes the hangout area for the town prostitutes. As her associates mock the Church, Cabiria is drawn to the procession. Just as she is about to join the procession, another john comes and she gets in his truck instead. As she heads home later that night, she sees a man giving food to the poor people living in caves near her house. She has never seen this man before, but she is impressed by his charity towards others. When she goes to church with her friends, she prays for a chance to better her life.Cabiria goes to a magic show, and the magician (Aldo Silvani) drags her up on stage and hypnotizes her. As the audience laughs, she acts out her desires to be married and live a happy life. Furious at having been taken advantage of for the audience's amusement, she leaves in a huff. Outside the theater, a man named Oscar (François Périer) is waiting outside to talk to her. He was in the audience and he says he agrees with her that it was not right for everyone to laugh, but believes that fate brought them together. They go for a drink, and at first she is cautious and suspicious, but after several meetings she falls passionately in love with him and they are to be married after only a few weeks. Cabiria is delighted and sells her home and takes out all her money from the bank. After they are married, she offers to give Oscar 700,000 lira cash, but he declines. However, during a walk in a wooded area, on a cliff overlooking a lake,[2] Oscar becomes distant and starts acting nervous. Cabiria realizes that just like her earlier lover, Oscar intends to push her over the cliff and steal her money. She throws her purse at his feet, sobbing in convulsions on the ground as he takes the money and abandons her.She later picks herself up and stumbles out of the wood in tears. In the film's famous last sequence, Cabiria walks the long road back to town when she is met by a group of young people riding scooters, playing music, and dancing. They happily form an impromptu parade around her until she begins to smile through her tears.\", 'similarity_score': 0.7929621383581563}\n",
      "{'id': 'tt0125439', 'title': 'Notting Hill', 'genres': ['Comedy', 'Drama', 'Romance'], 'rating': '7.1', 'plot_summary': \"Every man's dream comes true for William Thacker, an unsuccessful Notting Hill bookstore owner, when Anna Scott, the world's most beautiful woman and best-liked actress, enters his shop. A little later, he still can't believe it himself, William runs into her again - this time spilling orange juice over her. Anna accepts his offer to change in his nearby apartment, and thanks him with a kiss, which seems to surprise her even more than him. Eventually, Anna and William get to know each other better over the months, but being together with the world's most wanted woman is not easy - neither around your closest friends, nor in front of the all-devouring press.                Written by\\nJulian Reischl <julianreischl@mac.com>\", 'plot_synopsis': '', 'similarity_score': 0.7924267652065096}\n"
     ]
    }
   ],
   "source": [
    "query = \"romantic movies with happy ending\"\n",
    "results = vector_search(query, top_k=5)\n",
    "for idx, item in enumerate(results):\n",
    "    print(item)"
   ]
  }
 ],
 "metadata": {
  "kernelspec": {
   "display_name": ".venv",
   "language": "python",
   "name": "python3"
  },
  "language_info": {
   "codemirror_mode": {
    "name": "ipython",
    "version": 3
   },
   "file_extension": ".py",
   "mimetype": "text/x-python",
   "name": "python",
   "nbconvert_exporter": "python",
   "pygments_lexer": "ipython3",
   "version": "3.13.5"
  }
 },
 "nbformat": 4,
 "nbformat_minor": 5
}
