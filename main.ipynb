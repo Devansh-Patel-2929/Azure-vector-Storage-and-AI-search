{
 "cells": [
  {
   "cell_type": "code",
   "execution_count": null,
   "id": "b13e1d87",
   "metadata": {},
   "outputs": [],
   "source": [
    "from langchain_core.prompts import ChatPromptTemplate\n",
    "from langchain_openai import AzureChatOpenAI, AzureOpenAIEmbeddings\n",
    "from langchain_community.vectorstores import AzureCosmosDBVectorSearch\n",
    "from langchain_text_splitters import RecursiveCharacterTextSplitter\n",
    "\n",
    "\n",
    "import os\n",
    "from dotenv import load_dotenv\n",
    "load_dotenv()\n",
    "\n",
    "OPEN_AI_ENDPOINT = os.getenv(\"OPEN_AI_ENDPOINT\")\n",
    "subscription_key = os.getenv(\"SUBSCRIPTION_KEY\")\n"
   ]
  },
  {
   "cell_type": "code",
   "execution_count": 2,
   "id": "7cd11651",
   "metadata": {},
   "outputs": [],
   "source": [
    "llm = AzureChatOpenAI(\n",
    "    api_version=\"2025-01-01-preview\",\n",
    "    azure_endpoint=OPEN_AI_ENDPOINT,\n",
    "    api_key=subscription_key,\n",
    "    temperature=0.1,     \n",
    ")\n"
   ]
  },
  {
   "cell_type": "code",
   "execution_count": 10,
   "id": "668993bb",
   "metadata": {},
   "outputs": [
    {
     "name": "stdout",
     "output_type": "stream",
     "text": [
      "Vector databases store and manage high-dimensional vector embeddings, enabling efficient similarity search and machine learning tasks, often used in recommendation systems, natural language processing, and computer vision.\n"
     ]
    }
   ],
   "source": [
    "prompt = ChatPromptTemplate.from_messages([\n",
    "    (\"system\", \"You are a Professor. You are to answer the question in 20-30 words \"),\n",
    "    (\"user\", \"tell me a about {topic}\"),\n",
    "])\n",
    "\n",
    "chain = prompt | llm\n",
    "\n",
    "response = chain.invoke({\"topic\": \"Vector Databases\"})\n",
    "print(response.content)"
   ]
  },
  {
   "cell_type": "code",
   "execution_count": 11,
   "id": "a9c855c5",
   "metadata": {},
   "outputs": [],
   "source": [
    "#embedding model text-embeddding-ada-002\n",
    "\n",
    "EMBEDDING_MODEL_ENDPOINT = os.getenv(\"EMBEDDING_MODEL_ENDPOINT\")\n",
    "\n",
    "embedding = AzureOpenAIEmbeddings(\n",
    "    azure_endpoint=EMBEDDING_MODEL_ENDPOINT,\n",
    "    api_key=subscription_key,\n",
    ")"
   ]
  },
  {
   "cell_type": "code",
   "execution_count": 12,
   "id": "8eca793b",
   "metadata": {},
   "outputs": [
    {
     "name": "stdout",
     "output_type": "stream",
     "text": [
      "1536\n"
     ]
    }
   ],
   "source": [
    "query = \"What is Azure OpenAI?\"\n",
    "query_embedding = embedding.embed_query(query)\n",
    "\n",
    "#print the dimension of the embedding\n",
    "print(len(query_embedding))"
   ]
  },
  {
   "cell_type": "code",
   "execution_count": 13,
   "id": "3b1c9ddd",
   "metadata": {},
   "outputs": [],
   "source": [
    "from azure.cosmos import CosmosClient\n",
    "\n",
    "#cosmos vector store connection\n",
    "COSMOS_ENDPOINT = os.getenv(\"COSMOS_ENDPOINT\")\n",
    "COSMOS_KEY = os.getenv(\"COSMOS_KEY\")\n",
    "\n",
    "client = CosmosClient(COSMOS_ENDPOINT, COSMOS_KEY)\n"
   ]
  },
  {
   "cell_type": "code",
   "execution_count": null,
   "id": "eb0261b3",
   "metadata": {},
   "outputs": [
    {
     "name": "stdout",
     "output_type": "stream",
     "text": [
      "[Document(metadata={}, page_content='Azure AI Foundry is a unified platform for building generative AI applications.'), Document(metadata={}, page_content='Azure Cosmos DB is a globally distributed, multi-model database service with native vector search.'), Document(metadata={}, page_content='LangChain provides a framework to connect LLMs with vector databases like Cosmos DB.')]\n"
     ]
    }
   ],
   "source": [
    "texts = [\n",
    "    \"Azure AI Foundry is a unified platform for building generative AI applications.\",\n",
    "    \"Azure Cosmos DB is a globally distributed, multi-model database service with native vector search.\",\n",
    "    \"LangChain provides a framework to connect LLMs with vector databases like Cosmos DB.\"\n",
    "]\n",
    "text_splitter = RecursiveCharacterTextSplitter(chunk_size=500, chunk_overlap=0)\n",
    "documents = text_splitter.create_documents(texts)\n",
    "\n",
    "print(documents)"
   ]
  },
  {
   "cell_type": "code",
   "execution_count": 15,
   "id": "179988df",
   "metadata": {},
   "outputs": [
    {
     "name": "stdout",
     "output_type": "stream",
     "text": [
      "Container 'test_container' already exists\n"
     ]
    }
   ],
   "source": [
    "DATABASE_NAME = os.getenv(\"DATABASE_NAME\")\n",
    "CONTAINER_NAME = os.getenv(\"CONTAINER_NAME\")\n",
    "\n",
    "database = client.get_database_client(DATABASE_NAME)\n",
    "container = database.get_container_client(CONTAINER_NAME)\n",
    "print(f\"Container '{CONTAINER_NAME}' already exists\")"
   ]
  },
  {
   "cell_type": "code",
   "execution_count": null,
   "id": "369d463f",
   "metadata": {},
   "outputs": [],
   "source": []
  }
 ],
 "metadata": {
  "kernelspec": {
   "display_name": ".venv",
   "language": "python",
   "name": "python3"
  },
  "language_info": {
   "codemirror_mode": {
    "name": "ipython",
    "version": 3
   },
   "file_extension": ".py",
   "mimetype": "text/x-python",
   "name": "python",
   "nbconvert_exporter": "python",
   "pygments_lexer": "ipython3",
   "version": "3.13.5"
  }
 },
 "nbformat": 4,
 "nbformat_minor": 5
}
