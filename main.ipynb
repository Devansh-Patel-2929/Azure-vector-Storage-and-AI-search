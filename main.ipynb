{
 "cells": [
  {
   "cell_type": "code",
   "execution_count": 1,
   "id": "b13e1d87",
   "metadata": {},
   "outputs": [],
   "source": [
    "from langchain_core.prompts import ChatPromptTemplate\n",
    "from langchain_openai import AzureChatOpenAI, AzureOpenAIEmbeddings\n",
    "from azure.cosmos import CosmosClient\n",
    "\n",
    "import os\n",
    "from dotenv import load_dotenv\n",
    "load_dotenv()\n",
    "\n",
    "OPEN_AI_ENDPOINT = os.getenv(\"OPEN_AI_ENDPOINT\")\n",
    "subscription_key = os.getenv(\"SUBSCRIPTION_KEY\")\n"
   ]
  },
  {
   "cell_type": "code",
   "execution_count": 2,
   "id": "7cd11651",
   "metadata": {},
   "outputs": [],
   "source": [
    "llm = AzureChatOpenAI(\n",
    "    api_version=\"2025-01-01-preview\",\n",
    "    azure_endpoint=OPEN_AI_ENDPOINT,\n",
    "    api_key=subscription_key,\n",
    "    temperature=0.1,     \n",
    ")"
   ]
  },
  {
   "cell_type": "code",
   "execution_count": 3,
   "id": "668993bb",
   "metadata": {},
   "outputs": [
    {
     "name": "stdout",
     "output_type": "stream",
     "text": [
      "Vector databases store and manage high-dimensional vector embeddings, enabling efficient similarity search and retrieval for applications like recommendation systems, natural language processing, and computer vision.\n"
     ]
    }
   ],
   "source": [
    "prompt = ChatPromptTemplate.from_messages([\n",
    "    (\"system\", \"You are a Professor. You are to answer the question in 20-30 words \"),\n",
    "    (\"user\", \"tell me a about {topic}\"),\n",
    "])\n",
    "\n",
    "chain = prompt | llm\n",
    "\n",
    "response = chain.invoke({\"topic\": \"Vector Databases\"})\n",
    "print(response.content)"
   ]
  },
  {
   "cell_type": "code",
   "execution_count": 4,
   "id": "a9c855c5",
   "metadata": {},
   "outputs": [],
   "source": [
    "#embedding model text-embeddding-ada-002\n",
    "EMBEDDING_MODEL_ENDPOINT = os.getenv(\"EMBEDDING_MODEL_ENDPOINT\")\n",
    "\n",
    "embedding = AzureOpenAIEmbeddings(\n",
    "    azure_endpoint=EMBEDDING_MODEL_ENDPOINT,\n",
    "    api_key=subscription_key,\n",
    ")"
   ]
  },
  {
   "cell_type": "code",
   "execution_count": 5,
   "id": "8eca793b",
   "metadata": {},
   "outputs": [
    {
     "name": "stdout",
     "output_type": "stream",
     "text": [
      "1536\n"
     ]
    }
   ],
   "source": [
    "query = \"What is Azure OpenAI?\"\n",
    "query_embedding = embedding.embed_query(query)\n",
    "\n",
    "#print the dimension of the embedding\n",
    "print(len(query_embedding))"
   ]
  },
  {
   "cell_type": "code",
   "execution_count": 6,
   "id": "179988df",
   "metadata": {},
   "outputs": [],
   "source": [
    "DATABASE_NAME = os.getenv(\"DATABASE_NAME\")\n",
    "CONTAINER_NAME = os.getenv(\"CONTAINER_NAME\")"
   ]
  },
  {
   "cell_type": "code",
   "execution_count": 7,
   "id": "d3020bbe",
   "metadata": {},
   "outputs": [],
   "source": [
    "COSMOS_CONNECTION_STRING = os.getenv(\"COSMOS_CONNECTION_STRING\")\n",
    "\n",
    "# Cosmos_client connnection using Connection string \n",
    "client = CosmosClient.from_connection_string(COSMOS_CONNECTION_STRING)\n",
    "database = client.get_database_client(DATABASE_NAME)\n",
    "container = database.get_container_client(CONTAINER_NAME)"
   ]
  },
  {
   "cell_type": "code",
   "execution_count": 8,
   "id": "721c0065",
   "metadata": {},
   "outputs": [],
   "source": [
    "def insert_document(test_id, content):\n",
    "    content_vector = embedding.embed_query(content)\n",
    "    document = {\n",
    "        \"id\": str(test_id),\n",
    "        \"content\": content,\n",
    "        \"content_vector\": content_vector\n",
    "    }\n",
    "    container.create_item(body=document)\n",
    "    print(f\"Inserted document with test_id: {test_id}\")\n"
   ]
  },
  {
   "cell_type": "code",
   "execution_count": 9,
   "id": "666e284e",
   "metadata": {},
   "outputs": [],
   "source": [
    "#check if test_id already exits if it des do not insert just say \"Document with test_id {test_id} already exists.\"\n",
    "def check_document_exists(test_id):\n",
    "    query = f\"SELECT * FROM c WHERE c.id = '{test_id}'\"\n",
    "    items = list(container.query_items(query=query, enable_cross_partition_query=True))\n",
    "    return len(items) > 0\n"
   ]
  },
  {
   "cell_type": "code",
   "execution_count": 17,
   "id": "09abf3eb",
   "metadata": {},
   "outputs": [],
   "source": [
    "def vector_search(query_text, top_k=5):\n",
    "    # Generate user query embedding (1536 dimensions)\n",
    "    query_embedding = embedding.embed_query(query_text)\n",
    "    \n",
    "    # SQL query with vector distance calculation\n",
    "    query = \"\"\"\n",
    "    SELECT TOP @top_k \n",
    "        c.id,\n",
    "        c.content,\n",
    "        VectorDistance(c.content_vector, @embedding) AS similarity_score\n",
    "    FROM c\n",
    "    ORDER BY VectorDistance(c.content_vector, @embedding)\n",
    "    \"\"\"\n",
    "    \n",
    "    parameters = [\n",
    "        {\"name\": \"@embedding\", \"value\": query_embedding},\n",
    "        {\"name\": \"@top_k\", \"value\": top_k}\n",
    "    ]\n",
    "    \n",
    "    try:\n",
    "        # Run vector search query\n",
    "        results = list(container.query_items(\n",
    "            query=query,\n",
    "            parameters=parameters,\n",
    "            enable_cross_partition_query=True\n",
    "        ))\n",
    "        \n",
    "        print(f\"Vector search completed - Found {len(results)} results\")\n",
    "        return results\n",
    "        \n",
    "    except Exception as e:\n",
    "        print(f\"Error during vector search: {e}\")\n",
    "        return []\n"
   ]
  },
  {
   "cell_type": "code",
   "execution_count": 19,
   "id": "2aea77b3",
   "metadata": {},
   "outputs": [
    {
     "name": "stdout",
     "output_type": "stream",
     "text": [
      "Vector search completed - Found 1 results\n",
      "\n",
      "Query: 'What is Azure OpenAI Service?'\n",
      "\n",
      "Result 1:\n",
      "  Content: Azure OpenAI Service provides REST API access to OpenAI's powerful language models, enabling develop...\n",
      "  similarity_score: 0.9117\n"
     ]
    }
   ],
   "source": [
    "search_query = \"What is Azure OpenAI Service?\"\n",
    "results = vector_search(search_query, top_k=1)\n",
    "\n",
    "print(f\"\\nQuery: '{search_query}'\\n\")\n",
    "for idx, result in enumerate(results, 1):\n",
    "    print(f\"Result {idx}:\")\n",
    "    print(f\"  Content: {result['content'][:100]}...\")\n",
    "    print(f\"  similarity_score: {result['similarity_score']:.4f}\")"
   ]
  }
 ],
 "metadata": {
  "kernelspec": {
   "display_name": ".venv",
   "language": "python",
   "name": "python3"
  },
  "language_info": {
   "codemirror_mode": {
    "name": "ipython",
    "version": 3
   },
   "file_extension": ".py",
   "mimetype": "text/x-python",
   "name": "python",
   "nbconvert_exporter": "python",
   "pygments_lexer": "ipython3",
   "version": "3.13.5"
  }
 },
 "nbformat": 4,
 "nbformat_minor": 5
}
