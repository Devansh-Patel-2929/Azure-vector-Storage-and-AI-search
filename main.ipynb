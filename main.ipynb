{
 "cells": [
  {
   "cell_type": "code",
   "execution_count": 10,
   "id": "b13e1d87",
   "metadata": {},
   "outputs": [],
   "source": [
    "from langchain_core.prompts import ChatPromptTemplate\n",
    "from langchain_openai import AzureChatOpenAI, AzureOpenAIEmbeddings\n",
    "from azure.cosmos import CosmosClient\n",
    "\n",
    "import os\n",
    "from dotenv import load_dotenv\n",
    "load_dotenv()\n",
    "\n",
    "OPEN_AI_ENDPOINT = os.getenv(\"OPEN_AI_ENDPOINT\")\n",
    "subscription_key = os.getenv(\"SUBSCRIPTION_KEY\")\n"
   ]
  },
  {
   "cell_type": "code",
   "execution_count": 11,
   "id": "7cd11651",
   "metadata": {},
   "outputs": [],
   "source": [
    "llm = AzureChatOpenAI(\n",
    "    api_version=\"2025-01-01-preview\",\n",
    "    azure_endpoint=OPEN_AI_ENDPOINT,\n",
    "    api_key=subscription_key,\n",
    "    temperature=0.1,     \n",
    ")"
   ]
  },
  {
   "cell_type": "code",
   "execution_count": 12,
   "id": "668993bb",
   "metadata": {},
   "outputs": [
    {
     "name": "stdout",
     "output_type": "stream",
     "text": [
      "Vector databases store and manage high-dimensional vector embeddings, enabling efficient similarity search and retrieval for applications like recommendation systems, natural language processing, and computer vision.\n"
     ]
    }
   ],
   "source": [
    "prompt = ChatPromptTemplate.from_messages([\n",
    "    (\"system\", \"You are a Professor. You are to answer the question in 20-30 words \"),\n",
    "    (\"user\", \"tell me a about {topic}\"),\n",
    "])\n",
    "\n",
    "chain = prompt | llm\n",
    "\n",
    "response = chain.invoke({\"topic\": \"Vector Databases\"})\n",
    "print(response.content)"
   ]
  },
  {
   "cell_type": "code",
   "execution_count": 13,
   "id": "a9c855c5",
   "metadata": {},
   "outputs": [],
   "source": [
    "#embedding model text-embeddding-ada-002\n",
    "EMBEDDING_MODEL_ENDPOINT = os.getenv(\"EMBEDDING_MODEL_ENDPOINT\")\n",
    "\n",
    "embedding = AzureOpenAIEmbeddings(\n",
    "    azure_endpoint=EMBEDDING_MODEL_ENDPOINT,\n",
    "    api_key=subscription_key,\n",
    ")"
   ]
  },
  {
   "cell_type": "code",
   "execution_count": 14,
   "id": "8eca793b",
   "metadata": {},
   "outputs": [
    {
     "name": "stdout",
     "output_type": "stream",
     "text": [
      "1536\n"
     ]
    }
   ],
   "source": [
    "query = \"What is Azure OpenAI?\"\n",
    "query_embedding = embedding.embed_query(query)\n",
    "\n",
    "#print the dimension of the embedding\n",
    "print(len(query_embedding))"
   ]
  },
  {
   "cell_type": "code",
   "execution_count": 15,
   "id": "179988df",
   "metadata": {},
   "outputs": [],
   "source": [
    "DATABASE_NAME = os.getenv(\"DATABASE_NAME\")\n",
    "CONTAINER_NAME = os.getenv(\"CONTAINER_NAME\")"
   ]
  },
  {
   "cell_type": "code",
   "execution_count": 16,
   "id": "d3020bbe",
   "metadata": {},
   "outputs": [],
   "source": [
    "COSMOS_CONNECTION_STRING = os.getenv(\"COSMOS_CONNECTION_STRING\")\n",
    "\n",
    "# Cosmos_client connnection using Connection string \n",
    "client = CosmosClient.from_connection_string(COSMOS_CONNECTION_STRING)\n",
    "database = client.get_database_client(DATABASE_NAME)\n",
    "container = database.get_container_client(CONTAINER_NAME)"
   ]
  },
  {
   "cell_type": "code",
   "execution_count": 17,
   "id": "721c0065",
   "metadata": {},
   "outputs": [],
   "source": [
    "def insert_document(test_id, content):\n",
    "    content_vector = embedding.embed_query(content)\n",
    "    document = {\n",
    "        \"id\": str(test_id),\n",
    "        \"content\": content,\n",
    "        \"content_vector\": content_vector\n",
    "    }\n",
    "    container.create_item(body=document)\n",
    "    print(f\"Inserted document with test_id: {test_id}\")\n"
   ]
  },
  {
   "cell_type": "code",
   "execution_count": 18,
   "id": "666e284e",
   "metadata": {},
   "outputs": [
    {
     "name": "stdout",
     "output_type": "stream",
     "text": [
      "Inserted document with test_id: test_002\n"
     ]
    }
   ],
   "source": [
    "doc1 = insert_document(\n",
    "    test_id=\"test_002\",\n",
    "    content=\"Azure OpenAI Service provides REST API access to OpenAI's powerful language models, enabling developers to integrate AI capabilities into their applications.\",\n",
    ")"
   ]
  }
 ],
 "metadata": {
  "kernelspec": {
   "display_name": ".venv",
   "language": "python",
   "name": "python3"
  },
  "language_info": {
   "codemirror_mode": {
    "name": "ipython",
    "version": 3
   },
   "file_extension": ".py",
   "mimetype": "text/x-python",
   "name": "python",
   "nbconvert_exporter": "python",
   "pygments_lexer": "ipython3",
   "version": "3.13.5"
  }
 },
 "nbformat": 4,
 "nbformat_minor": 5
}
